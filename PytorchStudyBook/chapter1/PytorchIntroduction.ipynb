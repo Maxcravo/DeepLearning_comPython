{
 "cells": [
  {
   "cell_type": "code",
   "execution_count": null,
   "metadata": {},
   "outputs": [],
   "source": []
  },
  {
   "cell_type": "code",
   "execution_count": 1,
   "metadata": {},
   "outputs": [
    {
     "name": "stdout",
     "output_type": "stream",
     "text": [
      "Looking in indexes: https://download.pytorch.org/whl/cpu\n",
      "Requirement already satisfied: torch in /home/max/Faculdade/TCC/Codigos_de_Estudo/Pytorch/lib/python3.11/site-packages (2.0.1+cpu)\n",
      "Requirement already satisfied: torchvision in /home/max/Faculdade/TCC/Codigos_de_Estudo/Pytorch/lib/python3.11/site-packages (0.15.2+cpu)\n",
      "Requirement already satisfied: torchaudio in /home/max/Faculdade/TCC/Codigos_de_Estudo/Pytorch/lib/python3.11/site-packages (2.0.2+cpu)\n",
      "Requirement already satisfied: filelock in /home/max/Faculdade/TCC/Codigos_de_Estudo/Pytorch/lib/python3.11/site-packages (from torch) (3.9.0)\n",
      "Requirement already satisfied: typing-extensions in /home/max/Faculdade/TCC/Codigos_de_Estudo/Pytorch/lib/python3.11/site-packages (from torch) (4.4.0)\n",
      "Requirement already satisfied: sympy in /home/max/Faculdade/TCC/Codigos_de_Estudo/Pytorch/lib/python3.11/site-packages (from torch) (1.11.1)\n",
      "Requirement already satisfied: networkx in /home/max/Faculdade/TCC/Codigos_de_Estudo/Pytorch/lib/python3.11/site-packages (from torch) (3.0)\n",
      "Requirement already satisfied: jinja2 in /home/max/Faculdade/TCC/Codigos_de_Estudo/Pytorch/lib/python3.11/site-packages (from torch) (3.1.2)\n",
      "Requirement already satisfied: numpy in /home/max/Faculdade/TCC/Codigos_de_Estudo/Pytorch/lib/python3.11/site-packages (from torchvision) (1.24.1)\n",
      "Requirement already satisfied: requests in /home/max/Faculdade/TCC/Codigos_de_Estudo/Pytorch/lib/python3.11/site-packages (from torchvision) (2.28.1)\n",
      "Requirement already satisfied: pillow!=8.3.*,>=5.3.0 in /home/max/Faculdade/TCC/Codigos_de_Estudo/Pytorch/lib/python3.11/site-packages (from torchvision) (9.3.0)\n",
      "Requirement already satisfied: MarkupSafe>=2.0 in /home/max/Faculdade/TCC/Codigos_de_Estudo/Pytorch/lib/python3.11/site-packages (from jinja2->torch) (2.1.2)\n",
      "Requirement already satisfied: charset-normalizer<3,>=2 in /home/max/Faculdade/TCC/Codigos_de_Estudo/Pytorch/lib/python3.11/site-packages (from requests->torchvision) (2.1.1)\n",
      "Requirement already satisfied: idna<4,>=2.5 in /home/max/Faculdade/TCC/Codigos_de_Estudo/Pytorch/lib/python3.11/site-packages (from requests->torchvision) (3.4)\n",
      "Requirement already satisfied: urllib3<1.27,>=1.21.1 in /home/max/Faculdade/TCC/Codigos_de_Estudo/Pytorch/lib/python3.11/site-packages (from requests->torchvision) (1.26.13)\n",
      "Requirement already satisfied: certifi>=2017.4.17 in /home/max/Faculdade/TCC/Codigos_de_Estudo/Pytorch/lib/python3.11/site-packages (from requests->torchvision) (2022.12.7)\n",
      "Requirement already satisfied: mpmath>=0.19 in /home/max/Faculdade/TCC/Codigos_de_Estudo/Pytorch/lib/python3.11/site-packages (from sympy->torch) (1.2.1)\n",
      "Note: you may need to restart the kernel to use updated packages.\n"
     ]
    }
   ],
   "source": [
    "pip install torch torchvision torchaudio --index-url https://download.pytorch.org/whl/cpu"
   ]
  },
  {
   "cell_type": "code",
   "execution_count": null,
   "metadata": {},
   "outputs": [],
   "source": []
  }
 ],
 "metadata": {
  "kernelspec": {
   "display_name": "Pytorch",
   "language": "python",
   "name": "python3"
  },
  "language_info": {
   "codemirror_mode": {
    "name": "ipython",
    "version": 3
   },
   "file_extension": ".py",
   "mimetype": "text/x-python",
   "name": "python",
   "nbconvert_exporter": "python",
   "pygments_lexer": "ipython3",
   "version": "3.11.5"
  },
  "orig_nbformat": 4
 },
 "nbformat": 4,
 "nbformat_minor": 2
}
